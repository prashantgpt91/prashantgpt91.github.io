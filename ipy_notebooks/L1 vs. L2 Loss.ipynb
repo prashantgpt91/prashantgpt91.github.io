{
 "metadata": {
  "name": ""
 },
 "nbformat": 3,
 "nbformat_minor": 0,
 "worksheets": [
  {
   "cells": [
    {
     "cell_type": "code",
     "collapsed": false,
     "input": [
      "import numpy as np\n",
      "import pandas as pd\n",
      "from sklearn.cross_validation import train_test_split\n",
      "from sklearn.ensemble import GradientBoostingRegressor\n",
      "from statsmodels.tools.eval_measures import rmse\n",
      "import matplotlib.pylab as plt"
     ],
     "language": "python",
     "metadata": {},
     "outputs": [],
     "prompt_number": 325
    },
    {
     "cell_type": "code",
     "collapsed": false,
     "input": [
      "# Make pylab inline and set the theme to 'ggplot'\n",
      "plt.style.use('ggplot')\n",
      "%pylab inline"
     ],
     "language": "python",
     "metadata": {},
     "outputs": [
      {
       "output_type": "stream",
       "stream": "stdout",
       "text": [
        "Populating the interactive namespace from numpy and matplotlib\n"
       ]
      },
      {
       "output_type": "stream",
       "stream": "stderr",
       "text": [
        "WARNING: pylab import has clobbered these variables: ['plt', 'mod']\n",
        "`%pylab --no-import-all` prevents importing * from pylab and numpy\n"
       ]
      }
     ],
     "prompt_number": 326
    },
    {
     "cell_type": "code",
     "collapsed": false,
     "input": [
      "# Read Boston Housing Data\n",
      "data = pd.read_csv('Datasets/Housing.csv')"
     ],
     "language": "python",
     "metadata": {},
     "outputs": [],
     "prompt_number": 327
    },
    {
     "cell_type": "code",
     "collapsed": false,
     "input": [
      "# Create a data frame with all the independent features\n",
      "data_indep = data.drop('medv', axis = 1)\n",
      "\n",
      "# Create a target vector(vector of dependent variable, i.e. 'medv')\n",
      "data_dep = data['medv']\n",
      "\n",
      "# Split data into training and test sets\n",
      "train_X, test_X, train_y, test_y = train_test_split(data_indep, data_dep,\n",
      "                                                    test_size = 0.20,\n",
      "                                                    random_state = 42)"
     ],
     "language": "python",
     "metadata": {},
     "outputs": [],
     "prompt_number": 328
    },
    {
     "cell_type": "heading",
     "level": 3,
     "metadata": {},
     "source": [
      "Regression without any Outliers:"
     ]
    },
    {
     "cell_type": "code",
     "collapsed": false,
     "input": [
      "# Now let's fit a GradientBoostingRegressor with a L1(Least Absolute Deviation) loss function\n",
      "# Set a random seed so that we can reproduce the results\n",
      "np.random.seed(32767)\n",
      "\n",
      "# A GradientBoostingRegressor with L1(Least Absolute Deviation) as the loss function\n",
      "mod = GradientBoostingRegressor(loss='lad')\n",
      "\n",
      "fit = mod.fit(train_X, train_y)\n",
      "predict = fit.predict(test_X)\n",
      "\n",
      "# Root Mean Squared Error\n",
      "print \"RMSE -> %f\" % rmse(predict, test_y)"
     ],
     "language": "python",
     "metadata": {},
     "outputs": [
      {
       "output_type": "stream",
       "stream": "stdout",
       "text": [
        "MSE -> 3.440147\n"
       ]
      }
     ],
     "prompt_number": 329
    },
    {
     "cell_type": "code",
     "collapsed": false,
     "input": [
      "# Suppress printing numpy array in scientific notation\n",
      "np.set_printoptions(suppress=True)\n",
      "\n",
      "error = predict - test_y\n",
      "\n",
      "# Print squared errors in all test samples \n",
      "np.around(error ** 2, decimals = 2)"
     ],
     "language": "python",
     "metadata": {},
     "outputs": [
      {
       "metadata": {},
       "output_type": "pyout",
       "prompt_number": 330,
       "text": [
        "array([   0.03,    0.09,   13.16,    0.08,    0.  ,    1.49,    0.52,\n",
        "          0.31,    2.2 ,   11.76,    0.39,    0.  ,    0.71,    0.01,\n",
        "          6.73,   62.99,    2.71,    0.08,   13.18,    3.96,    2.2 ,\n",
        "         13.17,    0.18,    0.63,    3.91,    4.46,    2.2 ,    1.9 ,\n",
        "          2.26,    6.1 ,    7.01,    0.24,  111.68,    0.44,   31.79,\n",
        "          4.04,    0.06,    0.01,   11.08,    0.06,    6.94,    5.05,\n",
        "         16.06,   12.71,    0.04,    0.  ,    4.9 ,    0.21,   10.28,\n",
        "         10.61,    5.29,    0.04,    1.43,    6.06,    3.39,    0.11,\n",
        "          7.18,   20.04,    1.45,    0.09,    4.82,    2.39,    2.19,\n",
        "          0.05,    0.81,    0.63,    4.83,    4.14,    4.  ,    0.75,\n",
        "          0.91,    0.65,    0.42,    1.17,    0.63,   12.26,    0.41,\n",
        "          3.02,    0.89,   51.75,    0.16,   18.5 ,    0.36,    1.43,\n",
        "          3.31,    8.56,    1.62,    2.8 ,    0.73,    1.59,    0.75,\n",
        "          2.85,    0.55,    4.29,   48.63,    3.88,  476.98,   59.54,\n",
        "         12.18,   22.68,    2.86,    0.45])"
       ]
      }
     ],
     "prompt_number": 330
    },
    {
     "cell_type": "code",
     "collapsed": false,
     "input": [
      "# A GradientBoostingRegressor with L2(Least Squares) as the loss function\n",
      "mod = GradientBoostingRegressor(loss='ls')\n",
      "\n",
      "fit = mod.fit(train_X, train_y)\n",
      "predict = fit.predict(test_X)\n",
      "\n",
      "# Root Mean Squared Error\n",
      "print \"RMSE -> %f\" % rmse(predict, test_y)"
     ],
     "language": "python",
     "metadata": {},
     "outputs": [
      {
       "output_type": "stream",
       "stream": "stdout",
       "text": [
        "MSE -> 2.542019\n"
       ]
      }
     ],
     "prompt_number": 331
    },
    {
     "cell_type": "code",
     "collapsed": false,
     "input": [
      "error = predict - test_y\n",
      "\n",
      "# Print squared errors in all test samples \n",
      "np.around(error ** 2, decimals = 2)"
     ],
     "language": "python",
     "metadata": {},
     "outputs": [
      {
       "metadata": {},
       "output_type": "pyout",
       "prompt_number": 332,
       "text": [
        "array([  0.02,   1.51,  17.29,   1.49,   2.5 ,   5.38,   0.12,   0.03,\n",
        "         1.03,  18.  ,   2.44,   1.11,   5.32,   0.31,   1.68,  16.66,\n",
        "         1.54,   1.86,  24.29,   3.47,   1.  ,  14.71,   0.03,   2.27,\n",
        "         0.61,   2.82,   3.62,   2.67,   5.87,   9.84,  11.36,   0.11,\n",
        "        39.7 ,   2.7 ,  21.12,   6.05,   2.57,   0.09,  13.48,   0.56,\n",
        "         1.96,   4.68,  32.54,  11.9 ,   0.  ,   0.24,   6.82,   0.  ,\n",
        "         3.35,  15.8 ,   1.78,   0.07,   2.35,   2.28,  18.14,   0.04,\n",
        "         3.54,  14.06,   3.48,   0.17,   0.57,   0.92,   0.7 ,   1.01,\n",
        "         0.33,   9.48,   1.98,   1.3 ,   7.62,   7.32,   1.62,   1.61,\n",
        "         0.06,   0.58,   6.42,   1.81,   0.03,   8.83,   0.81,  34.72,\n",
        "         0.51,  15.03,   0.94,   0.73,   0.89,   4.12,   0.92,   1.91,\n",
        "         0.39,   0.2 ,   0.7 ,   0.16,   0.1 ,   3.2 ,  25.71,  12.62,\n",
        "        84.07,  30.38,   5.81,   7.08,   3.31,   2.21])"
       ]
      }
     ],
     "prompt_number": 332
    },
    {
     "cell_type": "markdown",
     "metadata": {},
     "source": [
      "As apparent from RMSE errors of L1 and L2 loss functions, Least Squares(L2) outperform L1, when there are no outliers in the data."
     ]
    },
    {
     "cell_type": "heading",
     "level": 3,
     "metadata": {},
     "source": [
      "Regression with Outliers:"
     ]
    },
    {
     "cell_type": "code",
     "collapsed": false,
     "input": [
      "# Some statistics about the Housing Data\n",
      "data.describe()"
     ],
     "language": "python",
     "metadata": {},
     "outputs": [
      {
       "html": [
        "<div style=\"max-height:1000px;max-width:1500px;overflow:auto;\">\n",
        "<table border=\"1\" class=\"dataframe\">\n",
        "  <thead>\n",
        "    <tr style=\"text-align: right;\">\n",
        "      <th></th>\n",
        "      <th>crim</th>\n",
        "      <th>zn</th>\n",
        "      <th>indus</th>\n",
        "      <th>chas</th>\n",
        "      <th>nox</th>\n",
        "      <th>rm</th>\n",
        "      <th>age</th>\n",
        "      <th>dis</th>\n",
        "      <th>rad</th>\n",
        "      <th>tax</th>\n",
        "      <th>ptratio</th>\n",
        "      <th>black</th>\n",
        "      <th>lstat</th>\n",
        "      <th>medv</th>\n",
        "    </tr>\n",
        "  </thead>\n",
        "  <tbody>\n",
        "    <tr>\n",
        "      <th>count</th>\n",
        "      <td>506.000000</td>\n",
        "      <td>506.000000</td>\n",
        "      <td>506.000000</td>\n",
        "      <td>506.000000</td>\n",
        "      <td>506.000000</td>\n",
        "      <td>506.000000</td>\n",
        "      <td>506.000000</td>\n",
        "      <td>506.000000</td>\n",
        "      <td>506.000000</td>\n",
        "      <td>506.000000</td>\n",
        "      <td>506.000000</td>\n",
        "      <td>506.000000</td>\n",
        "      <td>506.000000</td>\n",
        "      <td>506.000000</td>\n",
        "    </tr>\n",
        "    <tr>\n",
        "      <th>mean</th>\n",
        "      <td>3.613524</td>\n",
        "      <td>11.363636</td>\n",
        "      <td>11.136779</td>\n",
        "      <td>0.069170</td>\n",
        "      <td>0.554695</td>\n",
        "      <td>6.284634</td>\n",
        "      <td>68.574901</td>\n",
        "      <td>3.795043</td>\n",
        "      <td>9.549407</td>\n",
        "      <td>408.237154</td>\n",
        "      <td>18.455534</td>\n",
        "      <td>356.674032</td>\n",
        "      <td>12.653063</td>\n",
        "      <td>22.532806</td>\n",
        "    </tr>\n",
        "    <tr>\n",
        "      <th>std</th>\n",
        "      <td>8.601545</td>\n",
        "      <td>23.322453</td>\n",
        "      <td>6.860353</td>\n",
        "      <td>0.253994</td>\n",
        "      <td>0.115878</td>\n",
        "      <td>0.702617</td>\n",
        "      <td>28.148861</td>\n",
        "      <td>2.105710</td>\n",
        "      <td>8.707259</td>\n",
        "      <td>168.537116</td>\n",
        "      <td>2.164946</td>\n",
        "      <td>91.294864</td>\n",
        "      <td>7.141062</td>\n",
        "      <td>9.197104</td>\n",
        "    </tr>\n",
        "    <tr>\n",
        "      <th>min</th>\n",
        "      <td>0.006320</td>\n",
        "      <td>0.000000</td>\n",
        "      <td>0.460000</td>\n",
        "      <td>0.000000</td>\n",
        "      <td>0.385000</td>\n",
        "      <td>3.561000</td>\n",
        "      <td>2.900000</td>\n",
        "      <td>1.129600</td>\n",
        "      <td>1.000000</td>\n",
        "      <td>187.000000</td>\n",
        "      <td>12.600000</td>\n",
        "      <td>0.320000</td>\n",
        "      <td>1.730000</td>\n",
        "      <td>5.000000</td>\n",
        "    </tr>\n",
        "    <tr>\n",
        "      <th>25%</th>\n",
        "      <td>0.082045</td>\n",
        "      <td>0.000000</td>\n",
        "      <td>5.190000</td>\n",
        "      <td>0.000000</td>\n",
        "      <td>0.449000</td>\n",
        "      <td>5.885500</td>\n",
        "      <td>45.025000</td>\n",
        "      <td>2.100175</td>\n",
        "      <td>4.000000</td>\n",
        "      <td>279.000000</td>\n",
        "      <td>17.400000</td>\n",
        "      <td>375.377500</td>\n",
        "      <td>6.950000</td>\n",
        "      <td>17.025000</td>\n",
        "    </tr>\n",
        "    <tr>\n",
        "      <th>50%</th>\n",
        "      <td>0.256510</td>\n",
        "      <td>0.000000</td>\n",
        "      <td>9.690000</td>\n",
        "      <td>0.000000</td>\n",
        "      <td>0.538000</td>\n",
        "      <td>6.208500</td>\n",
        "      <td>77.500000</td>\n",
        "      <td>3.207450</td>\n",
        "      <td>5.000000</td>\n",
        "      <td>330.000000</td>\n",
        "      <td>19.050000</td>\n",
        "      <td>391.440000</td>\n",
        "      <td>11.360000</td>\n",
        "      <td>21.200000</td>\n",
        "    </tr>\n",
        "    <tr>\n",
        "      <th>75%</th>\n",
        "      <td>3.677082</td>\n",
        "      <td>12.500000</td>\n",
        "      <td>18.100000</td>\n",
        "      <td>0.000000</td>\n",
        "      <td>0.624000</td>\n",
        "      <td>6.623500</td>\n",
        "      <td>94.075000</td>\n",
        "      <td>5.188425</td>\n",
        "      <td>24.000000</td>\n",
        "      <td>666.000000</td>\n",
        "      <td>20.200000</td>\n",
        "      <td>396.225000</td>\n",
        "      <td>16.955000</td>\n",
        "      <td>25.000000</td>\n",
        "    </tr>\n",
        "    <tr>\n",
        "      <th>max</th>\n",
        "      <td>88.976200</td>\n",
        "      <td>100.000000</td>\n",
        "      <td>27.740000</td>\n",
        "      <td>1.000000</td>\n",
        "      <td>0.871000</td>\n",
        "      <td>8.780000</td>\n",
        "      <td>100.000000</td>\n",
        "      <td>12.126500</td>\n",
        "      <td>24.000000</td>\n",
        "      <td>711.000000</td>\n",
        "      <td>22.000000</td>\n",
        "      <td>396.900000</td>\n",
        "      <td>37.970000</td>\n",
        "      <td>50.000000</td>\n",
        "    </tr>\n",
        "  </tbody>\n",
        "</table>\n",
        "</div>"
       ],
       "metadata": {},
       "output_type": "pyout",
       "prompt_number": 333,
       "text": [
        "             crim          zn       indus        chas         nox          rm  \\\n",
        "count  506.000000  506.000000  506.000000  506.000000  506.000000  506.000000   \n",
        "mean     3.613524   11.363636   11.136779    0.069170    0.554695    6.284634   \n",
        "std      8.601545   23.322453    6.860353    0.253994    0.115878    0.702617   \n",
        "min      0.006320    0.000000    0.460000    0.000000    0.385000    3.561000   \n",
        "25%      0.082045    0.000000    5.190000    0.000000    0.449000    5.885500   \n",
        "50%      0.256510    0.000000    9.690000    0.000000    0.538000    6.208500   \n",
        "75%      3.677082   12.500000   18.100000    0.000000    0.624000    6.623500   \n",
        "max     88.976200  100.000000   27.740000    1.000000    0.871000    8.780000   \n",
        "\n",
        "              age         dis         rad         tax     ptratio       black  \\\n",
        "count  506.000000  506.000000  506.000000  506.000000  506.000000  506.000000   \n",
        "mean    68.574901    3.795043    9.549407  408.237154   18.455534  356.674032   \n",
        "std     28.148861    2.105710    8.707259  168.537116    2.164946   91.294864   \n",
        "min      2.900000    1.129600    1.000000  187.000000   12.600000    0.320000   \n",
        "25%     45.025000    2.100175    4.000000  279.000000   17.400000  375.377500   \n",
        "50%     77.500000    3.207450    5.000000  330.000000   19.050000  391.440000   \n",
        "75%     94.075000    5.188425   24.000000  666.000000   20.200000  396.225000   \n",
        "max    100.000000   12.126500   24.000000  711.000000   22.000000  396.900000   \n",
        "\n",
        "            lstat        medv  \n",
        "count  506.000000  506.000000  \n",
        "mean    12.653063   22.532806  \n",
        "std      7.141062    9.197104  \n",
        "min      1.730000    5.000000  \n",
        "25%      6.950000   17.025000  \n",
        "50%     11.360000   21.200000  \n",
        "75%     16.955000   25.000000  \n",
        "max     37.970000   50.000000  "
       ]
      }
     ],
     "prompt_number": 333
    },
    {
     "cell_type": "markdown",
     "metadata": {},
     "source": [
      "After looking at the minimum and maximum values of 'medv' column, we can see that the range of values in 'medv' is [5, 50].<br/>\n",
      "Let's add a few Outliers in this Dataset, so that we can see some significant differences with <b>L1</b> and <b>L2</b> loss functions."
     ]
    },
    {
     "cell_type": "code",
     "collapsed": false,
     "input": [
      "# Get upper and lower bounds[min, max] of all the features\n",
      "stats = data.describe()\n",
      "extremes = stats.loc[['min', 'max'],:].drop('medv', axis = 1)\n",
      "extremes"
     ],
     "language": "python",
     "metadata": {},
     "outputs": [
      {
       "html": [
        "<div style=\"max-height:1000px;max-width:1500px;overflow:auto;\">\n",
        "<table border=\"1\" class=\"dataframe\">\n",
        "  <thead>\n",
        "    <tr style=\"text-align: right;\">\n",
        "      <th></th>\n",
        "      <th>crim</th>\n",
        "      <th>zn</th>\n",
        "      <th>indus</th>\n",
        "      <th>chas</th>\n",
        "      <th>nox</th>\n",
        "      <th>rm</th>\n",
        "      <th>age</th>\n",
        "      <th>dis</th>\n",
        "      <th>rad</th>\n",
        "      <th>tax</th>\n",
        "      <th>ptratio</th>\n",
        "      <th>black</th>\n",
        "      <th>lstat</th>\n",
        "    </tr>\n",
        "  </thead>\n",
        "  <tbody>\n",
        "    <tr>\n",
        "      <th>min</th>\n",
        "      <td>0.00632</td>\n",
        "      <td>0</td>\n",
        "      <td>0.46</td>\n",
        "      <td>0</td>\n",
        "      <td>0.385</td>\n",
        "      <td>3.561</td>\n",
        "      <td>2.9</td>\n",
        "      <td>1.1296</td>\n",
        "      <td>1</td>\n",
        "      <td>187</td>\n",
        "      <td>12.6</td>\n",
        "      <td>0.32</td>\n",
        "      <td>1.73</td>\n",
        "    </tr>\n",
        "    <tr>\n",
        "      <th>max</th>\n",
        "      <td>88.97620</td>\n",
        "      <td>100</td>\n",
        "      <td>27.74</td>\n",
        "      <td>1</td>\n",
        "      <td>0.871</td>\n",
        "      <td>8.780</td>\n",
        "      <td>100.0</td>\n",
        "      <td>12.1265</td>\n",
        "      <td>24</td>\n",
        "      <td>711</td>\n",
        "      <td>22.0</td>\n",
        "      <td>396.90</td>\n",
        "      <td>37.97</td>\n",
        "    </tr>\n",
        "  </tbody>\n",
        "</table>\n",
        "</div>"
       ],
       "metadata": {},
       "output_type": "pyout",
       "prompt_number": 334,
       "text": [
        "         crim   zn  indus  chas    nox     rm    age      dis  rad  tax  \\\n",
        "min   0.00632    0   0.46     0  0.385  3.561    2.9   1.1296    1  187   \n",
        "max  88.97620  100  27.74     1  0.871  8.780  100.0  12.1265   24  711   \n",
        "\n",
        "     ptratio   black  lstat  \n",
        "min     12.6    0.32   1.73  \n",
        "max     22.0  396.90  37.97  "
       ]
      }
     ],
     "prompt_number": 334
    },
    {
     "cell_type": "markdown",
     "metadata": {},
     "source": [
      "Now, we are going to generate 5 random samples, such that their values lies in the [min, max] range of respective features."
     ]
    },
    {
     "cell_type": "code",
     "collapsed": false,
     "input": [
      "# Set a random seed\n",
      "np.random.seed(1234)\n",
      "\n",
      "# Create 5 random values \n",
      "rands = np.random.rand(5, 1)\n",
      "rands"
     ],
     "language": "python",
     "metadata": {},
     "outputs": [
      {
       "metadata": {},
       "output_type": "pyout",
       "prompt_number": 335,
       "text": [
        "array([[ 0.19151945],\n",
        "       [ 0.62210877],\n",
        "       [ 0.43772774],\n",
        "       [ 0.78535858],\n",
        "       [ 0.77997581]])"
       ]
      }
     ],
     "prompt_number": 335
    },
    {
     "cell_type": "code",
     "collapsed": false,
     "input": [
      "# Get the 'min' and 'max' rows as numpy array\n",
      "min_array = np.array(extremes.loc[['min'], :])\n",
      "max_array = np.array(extremes.loc[['max'], :])\n",
      "\n",
      "# Find the difference(range) of 'max' and 'min'\n",
      "range = max_array - min_array\n",
      "range"
     ],
     "language": "python",
     "metadata": {},
     "outputs": [
      {
       "metadata": {},
       "output_type": "pyout",
       "prompt_number": 336,
       "text": [
        "array([[  88.96988,  100.     ,   27.28   ,    1.     ,    0.486  ,\n",
        "           5.219  ,   97.1    ,   10.9969 ,   23.     ,  524.     ,\n",
        "           9.4    ,  396.58   ,   36.24   ]])"
       ]
      }
     ],
     "prompt_number": 336
    },
    {
     "cell_type": "code",
     "collapsed": false,
     "input": [
      "# Generate 5 samples with 'rands' value\n",
      "outliers_X = (rands * range) + min_array\n",
      "outliers_X"
     ],
     "language": "python",
     "metadata": {},
     "outputs": [
      {
       "metadata": {},
       "output_type": "pyout",
       "prompt_number": 337,
       "text": [
        "array([[  17.04578252,   19.15194504,    5.68465061,    0.19151945,\n",
        "           0.47807845,    4.56054001,   21.49653863,    3.23572024,\n",
        "           5.40494736,  287.356192  ,   14.40028283,   76.27278363,\n",
        "           8.67066488],\n",
        "       [  55.35526271,   62.2108771 ,   17.43112727,    0.62210877,\n",
        "           0.68734486,    6.80778568,   63.30676167,    7.97086794,\n",
        "          15.30850173,  512.98499602,   18.44782245,  247.03589642,\n",
        "          24.27522186],\n",
        "       [  38.95090441,   43.7727739 ,   12.40121272,    0.43772774,\n",
        "           0.59773568,    5.84550107,   45.40336346,    5.94324817,\n",
        "          11.067738  ,  416.36933524,   16.71464075,  173.91406674,\n",
        "          17.59325326],\n",
        "       [  69.87957895,   78.53585837,   21.88458216,    0.78535858,\n",
        "           0.76668427,    7.65978645,   79.15831848,    9.76610981,\n",
        "          19.06324743,  598.52789787,   19.98237069,  311.77750713,\n",
        "          30.19139507],\n",
        "       [  69.40067405,   77.99758081,   21.73774005,    0.77997581,\n",
        "           0.76406824,    7.63169374,   78.63565097,    9.70691596,\n",
        "          18.93944359,  595.70732345,   19.9317726 ,  309.64280598,\n",
        "          29.99632329]])"
       ]
      }
     ],
     "prompt_number": 337
    },
    {
     "cell_type": "code",
     "collapsed": false,
     "input": [
      "# We will also create some hard coded outliers for 'medv', i.e. our target\n",
      "medv_outliers = np.array([0, 0, 600, 700, 600])"
     ],
     "language": "python",
     "metadata": {},
     "outputs": [],
     "prompt_number": 338
    },
    {
     "cell_type": "code",
     "collapsed": false,
     "input": [
      "# Let's have a look at the data types of all the columns\n",
      "# so that we can create our new Dataset compatible with the original one\n",
      "data_indep.dtypes"
     ],
     "language": "python",
     "metadata": {},
     "outputs": [
      {
       "metadata": {},
       "output_type": "pyout",
       "prompt_number": 339,
       "text": [
        "crim       float64\n",
        "zn         float64\n",
        "indus      float64\n",
        "chas         int64\n",
        "nox        float64\n",
        "rm         float64\n",
        "age        float64\n",
        "dis        float64\n",
        "rad          int64\n",
        "tax          int64\n",
        "ptratio    float64\n",
        "black      float64\n",
        "lstat      float64\n",
        "dtype: object"
       ]
      }
     ],
     "prompt_number": 339
    },
    {
     "cell_type": "code",
     "collapsed": false,
     "input": [
      "# Change the type of 'chas', 'rad' and 'tax' to rounded of Integers\n",
      "outliers_X[:, [3, 8, 9]] = np.int64(np.round(outliers_X[:, [3, 8, 9]]))"
     ],
     "language": "python",
     "metadata": {},
     "outputs": [],
     "prompt_number": 340
    },
    {
     "cell_type": "code",
     "collapsed": false,
     "input": [
      "# Finally concatenate our existing 'train_X' and 'train_y' with these outliers\n",
      "train_X = np.append(train_X, outliers_X, axis = 0)\n",
      "train_y = np.append(train_y, medv_outliers, axis = 0)"
     ],
     "language": "python",
     "metadata": {},
     "outputs": [],
     "prompt_number": 341
    },
    {
     "cell_type": "code",
     "collapsed": false,
     "input": [
      "# Plot a histogram of 'medv' in train_y\n",
      "fig = plt.figure(figsize=(13,7))\n",
      "plt.hist(train_y, bins=50, range = (-10, 800))\n",
      "fig.suptitle('medv Count', fontsize = 20)\n",
      "plt.xlabel('medv', fontsize = 16)\n",
      "plt.ylabel('count', fontsize = 16)"
     ],
     "language": "python",
     "metadata": {},
     "outputs": [
      {
       "metadata": {},
       "output_type": "pyout",
       "prompt_number": 342,
       "text": [
        "<matplotlib.text.Text at 0x7f906589cb10>"
       ]
      },
      {
       "metadata": {},
       "output_type": "display_data",
       "png": "[encoded data removed]",
       "text": [
        "<matplotlib.figure.Figure at 0x7f9065b197d0>"
       ]
      }
     ],
     "prompt_number": 342
    },
    {
     "cell_type": "markdown",
     "metadata": {},
     "source": [
      "You can see there are some clear outliers at 600, 700 and even one or two 'medv' values are 0.<br/>\n",
      "Since, our outliers are in place now, we will once again fit the GradientBoostingRegressor with L1 and L2 Loss function to see the contrast in their performances with outliers."
     ]
    },
    {
     "cell_type": "code",
     "collapsed": false,
     "input": [
      "# So let's fit a GradientBoostingRegressor with a L1(Least Absolute Deviation) loss function\n",
      "np.random.seed(9876)\n",
      "\n",
      "# A GradientBoostingRegressor with L1(Least Absolute Deviation) as the loss function\n",
      "mod = GradientBoostingRegressor(loss='lad')\n",
      "\n",
      "fit = mod.fit(train_X, train_y)\n",
      "predict = fit.predict(test_X)\n",
      "\n",
      "# Root Mean Squared Error\n",
      "print \"RMSE -> %f\" % rmse(predict, test_y)"
     ],
     "language": "python",
     "metadata": {},
     "outputs": [
      {
       "output_type": "stream",
       "stream": "stdout",
       "text": [
        "MSE -> 7.055568\n"
       ]
      }
     ],
     "prompt_number": 343
    },
    {
     "cell_type": "code",
     "collapsed": false,
     "input": [
      "error = predict - test_y\n",
      "\n",
      "# Print squared errors in all test samples \n",
      "np.around(error ** 2, decimals = 2)"
     ],
     "language": "python",
     "metadata": {},
     "outputs": [
      {
       "metadata": {},
       "output_type": "pyout",
       "prompt_number": 344,
       "text": [
        "array([    0.04,     0.69,    17.13,     0.01,     0.62,     0.01,\n",
        "           1.88,     0.17,     0.54,    16.12,     2.4 ,     0.23,\n",
        "           0.04,     0.  ,     1.62,    83.27,     1.58,     0.23,\n",
        "          17.81,     1.3 ,     2.77,    12.79,     0.07,     0.45,\n",
        "           1.59,     7.27,     1.3 ,     2.45,     5.99,     7.88,\n",
        "           9.02,     0.49,  3396.2 ,     0.01,    28.32,    12.75,\n",
        "           0.45,     0.  ,    15.67,     0.  ,     4.2 ,     3.72,\n",
        "          30.43,     5.71,     0.01,     0.18,     7.47,     0.09,\n",
        "           1.28,    12.06,     2.49,     0.13,     6.22,     2.76,\n",
        "           2.29,     0.02,     4.91,    16.74,     1.94,     0.27,\n",
        "           0.25,   363.92,     2.42,     0.63,     0.58,     4.43,\n",
        "           4.28,     3.15,     1.17,     0.97,     0.73,     1.43,\n",
        "           0.53,     0.49,     0.81,    16.5 ,     0.07,    14.49,\n",
        "           1.84,    38.94,     0.17,    16.95,     0.45,     1.42,\n",
        "           1.97,     6.45,     1.08,     3.42,     0.36,     0.46,\n",
        "           1.1 ,     3.07,     0.12,     2.18,    46.74,     1.48,\n",
        "         652.32,    66.97,     9.32,    46.2 ,     3.05,     0.66])"
       ]
      }
     ],
     "prompt_number": 344
    },
    {
     "cell_type": "code",
     "collapsed": false,
     "input": [
      "# A GradientBoostingRegressor with L2(Least Squares) as the loss function\n",
      "mod = GradientBoostingRegressor(loss='ls')\n",
      "\n",
      "fit = mod.fit(train_X, train_y)\n",
      "predict = fit.predict(test_X)\n",
      "\n",
      "# Root Mean Squared Error\n",
      "print \"RMSE -> %f\" % rmse(predict, test_y)"
     ],
     "language": "python",
     "metadata": {},
     "outputs": [
      {
       "output_type": "stream",
       "stream": "stdout",
       "text": [
        "MSE -> 9.806251\n"
       ]
      }
     ],
     "prompt_number": 345
    },
    {
     "cell_type": "code",
     "collapsed": false,
     "input": [
      "error = predict - test_y\n",
      "\n",
      "# Print squared errors in all test samples \n",
      "np.around(error ** 2, decimals = 2)"
     ],
     "language": "python",
     "metadata": {},
     "outputs": [
      {
       "metadata": {},
       "output_type": "pyout",
       "prompt_number": 346,
       "text": [
        "array([    0.  ,     6.18,    11.  ,     0.36,     0.45,     1.62,\n",
        "           0.28,     0.02,     0.59,    22.96,     2.24,     0.06,\n",
        "           0.98,     0.02,     0.64,     6.52,     1.72,     0.04,\n",
        "           7.4 ,     3.76,     0.76,    15.28,     0.38,     1.95,\n",
        "           3.7 ,     9.  ,     4.28,     6.69,     5.83,    10.83,\n",
        "          17.79,     0.57,   121.92,     2.3 ,    15.77,     4.94,\n",
        "           0.02,     0.6 ,    13.59,     0.03,    11.32,     1.51,\n",
        "          16.45,     6.85,     0.07,     0.21,     6.32,     0.12,\n",
        "           3.41,    12.18,     7.96,     2.12,     2.95,     9.69,\n",
        "          17.15,     0.4 ,     2.43,     4.46,     1.58,     1.59,\n",
        "           2.45,     0.66,     2.56,     3.33,     0.43,    13.59,\n",
        "           6.76,     1.15,     2.87,     3.3 ,     4.7 ,     0.01,\n",
        "           1.3 ,     0.02,     0.86,  8597.78,     0.07,     1.7 ,\n",
        "           0.  ,    33.7 ,     0.71,    10.75,     0.03,     0.63,\n",
        "           1.55,    13.66,     0.89,     2.61,     0.27,     0.05,\n",
        "           1.12,     0.08,     0.  ,     3.76,    63.48,    10.78,\n",
        "         475.58,   111.95,    12.11,     5.93,     1.53,     1.99])"
       ]
      }
     ],
     "prompt_number": 346
    },
    {
     "cell_type": "markdown",
     "metadata": {},
     "source": [
      "With outliers in the dataset, a L2(Loss function) tries to adjust the coefficients features according to these outliers on the expense of other features, since the squared-error is going to be huge for these outliers(for error > 1). On the other hand L1(Least absolute deviation) is quite robust to outliers.<br/>\n",
      "As a result, L2 loss function may result in huge deviations in some of the samples which results in reduced accuracy."
     ]
    }
   ],
   "metadata": {}
  }
 ]
}